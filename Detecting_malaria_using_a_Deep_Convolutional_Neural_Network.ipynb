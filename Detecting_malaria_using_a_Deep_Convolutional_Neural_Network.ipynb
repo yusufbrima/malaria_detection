{
  "nbformat": 4,
  "nbformat_minor": 0,
  "metadata": {
    "colab": {
      "name": "Detecting malaria using a Deep  Convolutional Neural Network.ipynb",
      "version": "0.3.2",
      "provenance": [],
      "include_colab_link": true
    },
    "kernelspec": {
      "name": "python3",
      "display_name": "Python 3"
    },
    "accelerator": "GPU"
  },
  "cells": [
    {
      "cell_type": "markdown",
      "metadata": {
        "id": "view-in-github",
        "colab_type": "text"
      },
      "source": [
        "<a href=\"https://colab.research.google.com/github/yusufbrima/malaria_detection/blob/master/Detecting_malaria_using_a_Deep_Convolutional_Neural_Network.ipynb\" target=\"_parent\"><img src=\"https://colab.research.google.com/assets/colab-badge.svg\" alt=\"Open In Colab\"/></a>"
      ]
    },
    {
      "cell_type": "code",
      "metadata": {
        "id": "L46CH6rqylz6",
        "colab_type": "code",
        "colab": {}
      },
      "source": [
        "!apt-get install -y -qq software-properties-common python-software-properties module-init-tools\n",
        "!add-apt-repository -y ppa:alessandro-strada/ppa 2>&1 > /dev/null\n",
        "!apt-get update -qq 2>&1 > /dev/null\n",
        "!apt-get -y install -qq google-drive-ocamlfuse fuse\n",
        "from google.colab import auth\n",
        "auth.authenticate_user()\n",
        "from oauth2client.client import GoogleCredentials\n",
        "creds = GoogleCredentials.get_application_default()\n",
        "import getpass\n",
        "!google-drive-ocamlfuse -headless -id={creds.client_id} -secret={creds.client_secret} < /dev/null 2>&1 | grep URL\n",
        "vcode = getpass.getpass()\n",
        "!echo {vcode} | google-drive-ocamlfuse -headless -id={creds.client_id} -secret={creds.client_secret}"
      ],
      "execution_count": 0,
      "outputs": []
    },
    {
      "cell_type": "code",
      "metadata": {
        "id": "GIZwH9m_vV7O",
        "colab_type": "code",
        "colab": {}
      },
      "source": [
        "!mkdir -p drive\n",
        "!google-drive-ocamlfuse drive"
      ],
      "execution_count": 0,
      "outputs": []
    },
    {
      "cell_type": "code",
      "metadata": {
        "id": "4FWnE0qSFK-i",
        "colab_type": "code",
        "outputId": "741032a8-aa38-4474-f4a4-c485cb67624f",
        "colab": {
          "base_uri": "https://localhost:8080/",
          "height": 34
        }
      },
      "source": [
        "from google.colab import drive\n",
        "drive.mount('/content/drive')"
      ],
      "execution_count": 0,
      "outputs": [
        {
          "output_type": "stream",
          "text": [
            "Drive already mounted at /content/drive; to attempt to forcibly remount, call drive.mount(\"/content/drive\", force_remount=True).\n"
          ],
          "name": "stdout"
        }
      ]
    },
    {
      "cell_type": "code",
      "metadata": {
        "id": "AMyUdplAwx00",
        "colab_type": "code",
        "outputId": "9be05916-f26c-42c2-fe88-d1c7d5a64149",
        "colab": {
          "base_uri": "https://localhost:8080/",
          "height": 34
        }
      },
      "source": [
        "!ls /content/drive/"
      ],
      "execution_count": 0,
      "outputs": [
        {
          "output_type": "stream",
          "text": [
            "'My Drive'\n"
          ],
          "name": "stdout"
        }
      ]
    },
    {
      "cell_type": "code",
      "metadata": {
        "id": "gK01V3wez4Ky",
        "colab_type": "code",
        "colab": {}
      },
      "source": [
        "!cd /content/drive/NewMal\n",
        "!mkdir /content/drive/NewMal/malaria/cell_images"
      ],
      "execution_count": 0,
      "outputs": []
    },
    {
      "cell_type": "code",
      "metadata": {
        "id": "JMn9UgM20C6T",
        "colab_type": "code",
        "outputId": "a72cf5c0-9ec5-4632-c75f-aa1ca66feb82",
        "colab": {
          "base_uri": "https://localhost:8080/",
          "height": 51
        }
      },
      "source": [
        "%cd /content/drive/'My Drive'/NewMal/malaria/cell_images\n",
        "!ls"
      ],
      "execution_count": 0,
      "outputs": [
        {
          "output_type": "stream",
          "text": [
            "/content/drive/My Drive/NewMal/malaria/cell_images\n",
            "Parasitized  test  Uninfected\n"
          ],
          "name": "stdout"
        }
      ]
    },
    {
      "cell_type": "code",
      "metadata": {
        "id": "rS4UZwQsC_4A",
        "colab_type": "code",
        "outputId": "c0169a65-4752-4fea-b749-b046db29da1e",
        "colab": {
          "base_uri": "https://localhost:8080/",
          "height": 34
        }
      },
      "source": [
        "%cd ../"
      ],
      "execution_count": 0,
      "outputs": [
        {
          "output_type": "stream",
          "text": [
            "/content/drive/My Drive/NewMal/malaria\n"
          ],
          "name": "stdout"
        }
      ]
    },
    {
      "cell_type": "code",
      "metadata": {
        "id": "HEYKeMLZEftB",
        "colab_type": "code",
        "outputId": "5c90d092-b541-4a19-d5d0-0634e530a0bc",
        "colab": {
          "base_uri": "https://localhost:8080/",
          "height": 68
        }
      },
      "source": [
        "%cd ../\n",
        "!ls"
      ],
      "execution_count": 0,
      "outputs": [
        {
          "output_type": "stream",
          "text": [
            "/content/drive/My Drive/NewMal\n",
            " build_dataset.py   malaria\t      train_model.py\n",
            " cnn\t\t    MyColab_4.ipynb  'Untitled folder'\n"
          ],
          "name": "stdout"
        }
      ]
    },
    {
      "cell_type": "code",
      "metadata": {
        "id": "9cxP3mT7X6Hv",
        "colab_type": "code",
        "outputId": "8b21a1c9-4026-42d7-e2d3-0f95cb22ddff",
        "colab": {
          "base_uri": "https://localhost:8080/",
          "height": 221
        }
      },
      "source": [
        "%run 'build_dataset.py'"
      ],
      "execution_count": 0,
      "outputs": [
        {
          "output_type": "stream",
          "text": [
            "[INFO] building 'training' split\n",
            "[INFO] 'creating malaria/training' directory\n",
            "[INFO] 'creating malaria/training/Uninfected' directory\n",
            "[INFO] 'creating malaria/training/Parasitized' directory\n",
            "[INFO] building 'validation' split\n",
            "[INFO] 'creating malaria/validation' directory\n",
            "[INFO] 'creating malaria/validation/Uninfected' directory\n",
            "[INFO] 'creating malaria/validation/Parasitized' directory\n",
            "[INFO] building 'testing' split\n",
            "[INFO] 'creating malaria/testing' directory\n",
            "[INFO] 'creating malaria/testing/Uninfected' directory\n",
            "[INFO] 'creating malaria/testing/Parasitized' directory\n"
          ],
          "name": "stdout"
        }
      ]
    },
    {
      "cell_type": "code",
      "metadata": {
        "id": "oUS8OI4ZFi5I",
        "colab_type": "code",
        "outputId": "4bb09de5-2fa6-4932-89a6-589a7f828411",
        "colab": {
          "base_uri": "https://localhost:8080/",
          "height": 51
        }
      },
      "source": [
        "%ls"
      ],
      "execution_count": 0,
      "outputs": [
        {
          "output_type": "stream",
          "text": [
            " build_dataset.py   \u001b[0m\u001b[01;34mmalaria\u001b[0m/          train_model.py\n",
            " \u001b[01;34mcnn\u001b[0m/               MyColab_4.ipynb  \u001b[01;34m'Untitled folder'\u001b[0m/\n"
          ],
          "name": "stdout"
        }
      ]
    },
    {
      "cell_type": "code",
      "metadata": {
        "id": "DeOhr02tFnCx",
        "colab_type": "code",
        "outputId": "39e495d8-9770-46fb-8fa7-d9dc372319cb",
        "colab": {
          "base_uri": "https://localhost:8080/",
          "height": 2077
        }
      },
      "source": [
        "%run 'train_model.py'"
      ],
      "execution_count": 0,
      "outputs": [
        {
          "output_type": "stream",
          "text": [
            "Using TensorFlow backend.\n"
          ],
          "name": "stderr"
        },
        {
          "output_type": "stream",
          "text": [
            "Found 19842 images belonging to 2 classes.\n",
            "Found 2204 images belonging to 2 classes.\n"
          ],
          "name": "stdout"
        },
        {
          "output_type": "stream",
          "text": [
            "WARNING:tensorflow:From /usr/local/lib/python3.6/dist-packages/tensorflow/python/framework/op_def_library.py:263: colocate_with (from tensorflow.python.framework.ops) is deprecated and will be removed in a future version.\n",
            "Instructions for updating:\n",
            "Colocations handled automatically by placer.\n"
          ],
          "name": "stderr"
        },
        {
          "output_type": "stream",
          "text": [
            "Found 5512 images belonging to 2 classes.\n"
          ],
          "name": "stdout"
        },
        {
          "output_type": "stream",
          "text": [
            "WARNING:tensorflow:From /usr/local/lib/python3.6/dist-packages/tensorflow/python/ops/math_ops.py:3066: to_int32 (from tensorflow.python.ops.math_ops) is deprecated and will be removed in a future version.\n",
            "Instructions for updating:\n",
            "Use tf.cast instead.\n"
          ],
          "name": "stderr"
        },
        {
          "output_type": "stream",
          "text": [
            "Epoch 1/50\n",
            "620/620 [==============================] - 117s 189ms/step - loss: 0.7849 - acc: 0.9091 - val_loss: 0.6536 - val_acc: 0.9508\n",
            "Epoch 2/50\n",
            "620/620 [==============================] - 108s 175ms/step - loss: 0.6109 - acc: 0.9422 - val_loss: 0.5364 - val_acc: 0.9517\n",
            "Epoch 3/50\n",
            "620/620 [==============================] - 108s 174ms/step - loss: 0.4735 - acc: 0.9555 - val_loss: 0.4475 - val_acc: 0.9475\n",
            "Epoch 4/50\n",
            "620/620 [==============================] - 106s 171ms/step - loss: 0.4020 - acc: 0.9554 - val_loss: 0.3800 - val_acc: 0.9530\n",
            "Epoch 5/50\n",
            "620/620 [==============================] - 108s 175ms/step - loss: 0.4382 - acc: 0.9403 - val_loss: 0.3914 - val_acc: 0.9452\n",
            "Epoch 6/50\n",
            "620/620 [==============================] - 108s 174ms/step - loss: 0.3360 - acc: 0.9549 - val_loss: 0.3454 - val_acc: 0.9540\n",
            "Epoch 7/50\n",
            "620/620 [==============================] - 107s 173ms/step - loss: 0.3082 - acc: 0.9545 - val_loss: 0.3115 - val_acc: 0.9494\n",
            "Epoch 8/50\n",
            "620/620 [==============================] - 108s 175ms/step - loss: 0.2876 - acc: 0.9528 - val_loss: 0.2539 - val_acc: 0.9530\n",
            "Epoch 9/50\n",
            "620/620 [==============================] - 108s 174ms/step - loss: 0.2438 - acc: 0.9573 - val_loss: 0.2498 - val_acc: 0.9540\n",
            "Epoch 10/50\n",
            "620/620 [==============================] - 107s 173ms/step - loss: 0.2222 - acc: 0.9601 - val_loss: 0.2394 - val_acc: 0.9549\n",
            "Epoch 11/50\n",
            "620/620 [==============================] - 109s 175ms/step - loss: 0.2259 - acc: 0.9549 - val_loss: 0.2135 - val_acc: 0.9586\n",
            "Epoch 12/50\n",
            "620/620 [==============================] - 108s 174ms/step - loss: 0.2367 - acc: 0.9523 - val_loss: 0.2615 - val_acc: 0.9521\n",
            "Epoch 13/50\n",
            "620/620 [==============================] - 107s 173ms/step - loss: 0.1995 - acc: 0.9585 - val_loss: 0.2003 - val_acc: 0.9553\n",
            "Epoch 14/50\n",
            "620/620 [==============================] - 109s 175ms/step - loss: 0.1874 - acc: 0.9583 - val_loss: 0.1936 - val_acc: 0.9512\n",
            "Epoch 15/50\n",
            "620/620 [==============================] - 109s 175ms/step - loss: 0.1764 - acc: 0.9589 - val_loss: 0.1785 - val_acc: 0.9576\n",
            "Epoch 16/50\n",
            "620/620 [==============================] - 106s 171ms/step - loss: 0.1796 - acc: 0.9564 - val_loss: 0.1748 - val_acc: 0.9590\n",
            "Epoch 17/50\n",
            "620/620 [==============================] - 107s 172ms/step - loss: 0.1670 - acc: 0.9603 - val_loss: 0.2028 - val_acc: 0.9530\n",
            "Epoch 18/50\n",
            "620/620 [==============================] - 108s 174ms/step - loss: 0.2069 - acc: 0.9536 - val_loss: 0.1717 - val_acc: 0.9613\n",
            "Epoch 19/50\n",
            "620/620 [==============================] - 106s 171ms/step - loss: 0.2863 - acc: 0.9504 - val_loss: 0.2713 - val_acc: 0.9411\n",
            "Epoch 20/50\n",
            "620/620 [==============================] - 108s 175ms/step - loss: 0.2357 - acc: 0.9553 - val_loss: 0.2035 - val_acc: 0.9581\n",
            "Epoch 21/50\n",
            "620/620 [==============================] - 109s 176ms/step - loss: 0.1916 - acc: 0.9604 - val_loss: 0.1889 - val_acc: 0.9563\n",
            "Epoch 22/50\n",
            "620/620 [==============================] - 108s 175ms/step - loss: 0.1752 - acc: 0.9609 - val_loss: 0.1763 - val_acc: 0.9553\n",
            "Epoch 23/50\n",
            "620/620 [==============================] - 110s 177ms/step - loss: 0.1674 - acc: 0.9617 - val_loss: 0.1767 - val_acc: 0.9517\n",
            "Epoch 24/50\n",
            "620/620 [==============================] - 109s 176ms/step - loss: 0.1614 - acc: 0.9611 - val_loss: 0.1646 - val_acc: 0.9572\n",
            "Epoch 25/50\n",
            "620/620 [==============================] - 109s 175ms/step - loss: 0.1517 - acc: 0.9636 - val_loss: 0.1553 - val_acc: 0.9581\n",
            "Epoch 26/50\n",
            "620/620 [==============================] - 108s 174ms/step - loss: 0.1503 - acc: 0.9632 - val_loss: 0.1512 - val_acc: 0.9627\n",
            "Epoch 27/50\n",
            "620/620 [==============================] - 108s 175ms/step - loss: 0.1439 - acc: 0.9635 - val_loss: 0.1560 - val_acc: 0.9590\n",
            "Epoch 28/50\n",
            "620/620 [==============================] - 109s 176ms/step - loss: 0.1422 - acc: 0.9650 - val_loss: 0.1473 - val_acc: 0.9609\n",
            "Epoch 29/50\n",
            "620/620 [==============================] - 108s 174ms/step - loss: 0.1919 - acc: 0.9527 - val_loss: 0.1685 - val_acc: 0.9572\n",
            "Epoch 30/50\n",
            "620/620 [==============================] - 108s 173ms/step - loss: 0.1540 - acc: 0.9629 - val_loss: 0.1567 - val_acc: 0.9590\n",
            "Epoch 31/50\n",
            "620/620 [==============================] - 109s 176ms/step - loss: 0.1464 - acc: 0.9652 - val_loss: 0.1537 - val_acc: 0.9595\n",
            "Epoch 32/50\n",
            "620/620 [==============================] - 108s 175ms/step - loss: 0.1423 - acc: 0.9649 - val_loss: 0.1603 - val_acc: 0.9544\n",
            "Epoch 33/50\n",
            "620/620 [==============================] - 107s 172ms/step - loss: 0.1341 - acc: 0.9658 - val_loss: 0.1439 - val_acc: 0.9618\n",
            "Epoch 34/50\n",
            "620/620 [==============================] - 109s 176ms/step - loss: 0.1345 - acc: 0.9650 - val_loss: 0.1327 - val_acc: 0.9613\n",
            "Epoch 35/50\n",
            "620/620 [==============================] - 109s 176ms/step - loss: 0.1297 - acc: 0.9662 - val_loss: 0.1349 - val_acc: 0.9604\n",
            "Epoch 36/50\n",
            "620/620 [==============================] - 106s 172ms/step - loss: 0.1456 - acc: 0.9626 - val_loss: 0.1424 - val_acc: 0.9586\n",
            "Epoch 37/50\n",
            "620/620 [==============================] - 108s 174ms/step - loss: 0.1308 - acc: 0.9653 - val_loss: 0.1404 - val_acc: 0.9590\n",
            "Epoch 38/50\n",
            "620/620 [==============================] - 109s 176ms/step - loss: 0.1248 - acc: 0.9679 - val_loss: 0.1443 - val_acc: 0.9609\n",
            "Epoch 39/50\n",
            "620/620 [==============================] - 108s 174ms/step - loss: 0.1228 - acc: 0.9674 - val_loss: 0.1368 - val_acc: 0.9599\n",
            "Epoch 40/50\n",
            "620/620 [==============================] - 109s 176ms/step - loss: 0.1245 - acc: 0.9672 - val_loss: 0.1355 - val_acc: 0.9627\n",
            "Epoch 41/50\n",
            "620/620 [==============================] - 109s 176ms/step - loss: 0.1193 - acc: 0.9680 - val_loss: 0.1304 - val_acc: 0.9622\n",
            "Epoch 42/50\n",
            "620/620 [==============================] - 107s 172ms/step - loss: 0.1150 - acc: 0.9687 - val_loss: 0.1303 - val_acc: 0.9599\n",
            "Epoch 43/50\n",
            "620/620 [==============================] - 109s 176ms/step - loss: 0.1132 - acc: 0.9708 - val_loss: 0.1252 - val_acc: 0.9636\n",
            "Epoch 44/50\n",
            "620/620 [==============================] - 109s 176ms/step - loss: 0.1126 - acc: 0.9700 - val_loss: 0.1190 - val_acc: 0.9664\n",
            "Epoch 45/50\n",
            "620/620 [==============================] - 107s 173ms/step - loss: 0.1095 - acc: 0.9712 - val_loss: 0.1252 - val_acc: 0.9627\n",
            "Epoch 46/50\n",
            "620/620 [==============================] - 108s 175ms/step - loss: 0.1242 - acc: 0.9671 - val_loss: 0.1250 - val_acc: 0.9627\n",
            "Epoch 47/50\n",
            "620/620 [==============================] - 108s 175ms/step - loss: 0.1060 - acc: 0.9714 - val_loss: 0.1252 - val_acc: 0.9650\n",
            "Epoch 48/50\n",
            "620/620 [==============================] - 109s 175ms/step - loss: 0.1043 - acc: 0.9722 - val_loss: 0.1228 - val_acc: 0.9645\n",
            "Epoch 49/50\n",
            "620/620 [==============================] - 108s 174ms/step - loss: 0.1005 - acc: 0.9733 - val_loss: 0.1175 - val_acc: 0.9609\n",
            "Epoch 50/50\n",
            "620/620 [==============================] - 108s 174ms/step - loss: 0.1074 - acc: 0.9708 - val_loss: 0.1189 - val_acc: 0.9636\n",
            "[INFO] evaluating network...\n",
            "              precision    recall  f1-score   support\n",
            "\n",
            " Parasitized       0.98      0.96      0.97      2786\n",
            "  Uninfected       0.96      0.98      0.97      2726\n",
            "\n",
            "   micro avg       0.97      0.97      0.97      5512\n",
            "   macro avg       0.97      0.97      0.97      5512\n",
            "weighted avg       0.97      0.97      0.97      5512\n",
            "\n"
          ],
          "name": "stdout"
        }
      ]
    },
    {
      "cell_type": "code",
      "metadata": {
        "id": "7OgfMrCycNS_",
        "colab_type": "code",
        "outputId": "1a00a108-34be-4ee5-f0a5-fd5565830450",
        "colab": {
          "base_uri": "https://localhost:8080/",
          "height": 85
        }
      },
      "source": [
        "%cd /content/drive/'My Drive'/NewMal/\n",
        "%ls"
      ],
      "execution_count": 0,
      "outputs": [
        {
          "output_type": "stream",
          "text": [
            "/content/drive/My Drive/NewMal\n",
            " build_dataset.py   mdm.h5            plot.png         \u001b[0m\u001b[01;34m'Untitled folder'\u001b[0m/\n",
            " \u001b[01;34mcnn\u001b[0m/               mdm.json          train_model1.py\n",
            " \u001b[01;34mmalaria\u001b[0m/           MyColab_4.ipynb   train_model.py\n"
          ],
          "name": "stdout"
        }
      ]
    },
    {
      "cell_type": "code",
      "metadata": {
        "id": "bBmKNfkScrph",
        "colab_type": "code",
        "outputId": "84275af2-42d4-4702-e52b-675bdad5972a",
        "colab": {
          "base_uri": "https://localhost:8080/",
          "height": 918
        }
      },
      "source": [
        "%run 'train_model1.py'"
      ],
      "execution_count": 0,
      "outputs": [
        {
          "output_type": "stream",
          "text": [
            "Found 19842 images belonging to 2 classes.\n",
            "Found 2204 images belonging to 2 classes.\n",
            "Found 5512 images belonging to 2 classes.\n",
            "Epoch 1/20\n",
            "620/620 [==============================] - 117s 189ms/step - loss: 0.8599 - acc: 0.8756 - val_loss: 0.6450 - val_acc: 0.9476\n",
            "Epoch 2/20\n",
            "620/620 [==============================] - 108s 173ms/step - loss: 0.5924 - acc: 0.9493 - val_loss: 0.5333 - val_acc: 0.9443\n",
            "Epoch 3/20\n",
            "620/620 [==============================] - 108s 175ms/step - loss: 0.4761 - acc: 0.9540 - val_loss: 0.4494 - val_acc: 0.9507\n",
            "Epoch 4/20\n",
            "620/620 [==============================] - 108s 175ms/step - loss: 0.4295 - acc: 0.9512 - val_loss: 0.4002 - val_acc: 0.9438\n",
            "Epoch 5/20\n",
            "620/620 [==============================] - 108s 174ms/step - loss: 0.3624 - acc: 0.9558 - val_loss: 0.3511 - val_acc: 0.9526\n",
            "Epoch 6/20\n",
            "620/620 [==============================] - 108s 175ms/step - loss: 0.3172 - acc: 0.9582 - val_loss: 0.3202 - val_acc: 0.9581\n",
            "Epoch 7/20\n",
            "620/620 [==============================] - 109s 176ms/step - loss: 0.2888 - acc: 0.9592 - val_loss: 0.2771 - val_acc: 0.9526\n",
            "Epoch 8/20\n",
            "620/620 [==============================] - 108s 174ms/step - loss: 0.3614 - acc: 0.9457 - val_loss: 0.3117 - val_acc: 0.9494\n",
            "Epoch 9/20\n",
            "620/620 [==============================] - 109s 175ms/step - loss: 0.2881 - acc: 0.9557 - val_loss: 0.2785 - val_acc: 0.9526\n",
            "Epoch 10/20\n",
            "620/620 [==============================] - 110s 178ms/step - loss: 0.2983 - acc: 0.9495 - val_loss: 0.2660 - val_acc: 0.9553\n",
            "Epoch 11/20\n",
            "620/620 [==============================] - 107s 172ms/step - loss: 0.2496 - acc: 0.9587 - val_loss: 0.2449 - val_acc: 0.9535\n",
            "Epoch 12/20\n",
            "620/620 [==============================] - 108s 175ms/step - loss: 0.2269 - acc: 0.9607 - val_loss: 0.2260 - val_acc: 0.9604\n",
            "Epoch 13/20\n",
            "620/620 [==============================] - 110s 177ms/step - loss: 0.2302 - acc: 0.9575 - val_loss: 0.2225 - val_acc: 0.9544\n",
            "Epoch 14/20\n",
            "620/620 [==============================] - 107s 173ms/step - loss: 0.2043 - acc: 0.9629 - val_loss: 0.2250 - val_acc: 0.9576\n",
            "Epoch 15/20\n",
            "620/620 [==============================] - 108s 175ms/step - loss: 0.1976 - acc: 0.9629 - val_loss: 0.1993 - val_acc: 0.9604\n",
            "Epoch 16/20\n",
            "620/620 [==============================] - 109s 176ms/step - loss: 0.1917 - acc: 0.9626 - val_loss: 0.1956 - val_acc: 0.9576\n",
            "Epoch 17/20\n",
            "620/620 [==============================] - 108s 174ms/step - loss: 0.1826 - acc: 0.9651 - val_loss: 0.1876 - val_acc: 0.9590\n",
            "Epoch 18/20\n",
            "620/620 [==============================] - 110s 177ms/step - loss: 0.1732 - acc: 0.9655 - val_loss: 0.1848 - val_acc: 0.9650\n",
            "Epoch 19/20\n",
            "620/620 [==============================] - 108s 174ms/step - loss: 0.1678 - acc: 0.9668 - val_loss: 0.1795 - val_acc: 0.9622\n",
            "Epoch 20/20\n",
            "620/620 [==============================] - 108s 174ms/step - loss: 0.1617 - acc: 0.9695 - val_loss: 0.1770 - val_acc: 0.9595\n",
            "[INFO] evaluating network...\n",
            "              precision    recall  f1-score   support\n",
            "\n",
            " Parasitized       0.98      0.95      0.96      2786\n",
            "  Uninfected       0.95      0.98      0.96      2726\n",
            "\n",
            "   micro avg       0.96      0.96      0.96      5512\n",
            "   macro avg       0.96      0.96      0.96      5512\n",
            "weighted avg       0.96      0.96      0.96      5512\n",
            "\n"
          ],
          "name": "stdout"
        }
      ]
    },
    {
      "cell_type": "code",
      "metadata": {
        "id": "CMAJS3E7mqt3",
        "colab_type": "code",
        "outputId": "787c6009-3e83-4627-a8f7-ce590887b065",
        "colab": {
          "base_uri": "https://localhost:8080/",
          "height": 68
        }
      },
      "source": [
        "%ls"
      ],
      "execution_count": 0,
      "outputs": [
        {
          "output_type": "stream",
          "text": [
            " build_dataset.py   mdm.h5            plot_1.png        train_model2.py\n",
            " \u001b[0m\u001b[01;34mcnn\u001b[0m/               mdm.json          plot.png          train_model.py\n",
            " \u001b[01;34mmalaria\u001b[0m/           MyColab_4.ipynb   train_model1.py  \u001b[01;34m'Untitled folder'\u001b[0m/\n"
          ],
          "name": "stdout"
        }
      ]
    },
    {
      "cell_type": "code",
      "metadata": {
        "id": "LmAeKbeLmslP",
        "colab_type": "code",
        "outputId": "e3892e57-8133-4820-9657-08a44cf05c32",
        "colab": {
          "base_uri": "https://localhost:8080/",
          "height": 918
        }
      },
      "source": [
        "%run 'train_model2.py'"
      ],
      "execution_count": 0,
      "outputs": [
        {
          "output_type": "stream",
          "text": [
            "Found 19842 images belonging to 2 classes.\n",
            "Found 2204 images belonging to 2 classes.\n",
            "Found 5512 images belonging to 2 classes.\n",
            "Epoch 1/20\n",
            "620/620 [==============================] - 120s 194ms/step - loss: 1.4601 - acc: 0.6368 - val_loss: 0.8389 - val_acc: 0.9426\n",
            "Epoch 2/20\n",
            "620/620 [==============================] - 108s 174ms/step - loss: 0.7215 - acc: 0.9335 - val_loss: 0.5710 - val_acc: 0.9351\n",
            "Epoch 3/20\n",
            "620/620 [==============================] - 106s 172ms/step - loss: 0.4728 - acc: 0.9487 - val_loss: 0.4074 - val_acc: 0.9521\n",
            "Epoch 4/20\n",
            "620/620 [==============================] - 110s 177ms/step - loss: 0.3718 - acc: 0.9495 - val_loss: 0.3872 - val_acc: 0.9411\n",
            "Epoch 5/20\n",
            "620/620 [==============================] - 108s 175ms/step - loss: 0.3076 - acc: 0.9530 - val_loss: 0.2899 - val_acc: 0.9452\n",
            "Epoch 6/20\n",
            "620/620 [==============================] - 107s 172ms/step - loss: 0.2578 - acc: 0.9548 - val_loss: 0.2727 - val_acc: 0.9526\n",
            "Epoch 7/20\n",
            "620/620 [==============================] - 110s 177ms/step - loss: 0.2249 - acc: 0.9563 - val_loss: 0.2175 - val_acc: 0.9484\n",
            "Epoch 8/20\n",
            "620/620 [==============================] - 108s 174ms/step - loss: 0.2051 - acc: 0.9556 - val_loss: 0.1980 - val_acc: 0.9484\n",
            "Epoch 9/20\n",
            "620/620 [==============================] - 109s 176ms/step - loss: 0.1965 - acc: 0.9572 - val_loss: 0.1896 - val_acc: 0.9530\n",
            "Epoch 10/20\n",
            "620/620 [==============================] - 108s 175ms/step - loss: 0.1812 - acc: 0.9580 - val_loss: 0.1940 - val_acc: 0.9540\n",
            "Epoch 11/20\n",
            "620/620 [==============================] - 108s 174ms/step - loss: 0.2535 - acc: 0.9522 - val_loss: 0.2275 - val_acc: 0.9549\n",
            "Epoch 12/20\n",
            "620/620 [==============================] - 109s 176ms/step - loss: 0.1950 - acc: 0.9577 - val_loss: 0.1845 - val_acc: 0.9563\n",
            "Epoch 13/20\n",
            "620/620 [==============================] - 108s 174ms/step - loss: 0.1786 - acc: 0.9580 - val_loss: 0.1822 - val_acc: 0.9563\n",
            "Epoch 14/20\n",
            "620/620 [==============================] - 107s 173ms/step - loss: 0.1627 - acc: 0.9603 - val_loss: 0.1707 - val_acc: 0.9521\n",
            "Epoch 15/20\n",
            "620/620 [==============================] - 110s 177ms/step - loss: 0.2026 - acc: 0.9543 - val_loss: 0.1829 - val_acc: 0.9553\n",
            "Epoch 16/20\n",
            "620/620 [==============================] - 108s 174ms/step - loss: 0.2378 - acc: 0.9500 - val_loss: 0.2021 - val_acc: 0.9553\n",
            "Epoch 17/20\n",
            "620/620 [==============================] - 107s 173ms/step - loss: 0.2042 - acc: 0.9564 - val_loss: 0.1884 - val_acc: 0.9544\n",
            "Epoch 18/20\n",
            "620/620 [==============================] - 109s 176ms/step - loss: 0.1716 - acc: 0.9615 - val_loss: 0.1721 - val_acc: 0.9567\n",
            "Epoch 19/20\n",
            "620/620 [==============================] - 108s 175ms/step - loss: 0.1608 - acc: 0.9631 - val_loss: 0.1649 - val_acc: 0.9558\n",
            "Epoch 20/20\n",
            "620/620 [==============================] - 107s 172ms/step - loss: 0.1608 - acc: 0.9618 - val_loss: 0.1602 - val_acc: 0.9572\n",
            "[INFO] evaluating network...\n",
            "              precision    recall  f1-score   support\n",
            "\n",
            " Parasitized       0.98      0.94      0.96      2786\n",
            "  Uninfected       0.94      0.98      0.96      2726\n",
            "\n",
            "   micro avg       0.96      0.96      0.96      5512\n",
            "   macro avg       0.96      0.96      0.96      5512\n",
            "weighted avg       0.96      0.96      0.96      5512\n",
            "\n"
          ],
          "name": "stdout"
        }
      ]
    },
    {
      "cell_type": "code",
      "metadata": {
        "id": "4IWd8uY4wkuk",
        "colab_type": "code",
        "outputId": "292ee214-cb5a-4f33-eee3-86bb10ba8557",
        "colab": {
          "base_uri": "https://localhost:8080/",
          "height": 85
        }
      },
      "source": [
        "%ls"
      ],
      "execution_count": 0,
      "outputs": [
        {
          "output_type": "stream",
          "text": [
            " build_dataset.py   mdm.json          plot.png          train_model.py\n",
            " \u001b[0m\u001b[01;34mcnn\u001b[0m/               MyColab_4.ipynb   train_model1.py  \u001b[01;34m'Untitled folder'\u001b[0m/\n",
            " \u001b[01;34mmalaria\u001b[0m/           plot_1.png        train_model2.py\n",
            " mdm.h5             plot_lr_2.png     train_model3.py\n"
          ],
          "name": "stdout"
        }
      ]
    },
    {
      "cell_type": "code",
      "metadata": {
        "id": "Y_tFtiEkwoVT",
        "colab_type": "code",
        "outputId": "94af8c44-26b2-4d39-ff64-ccb6c73f9980",
        "colab": {
          "base_uri": "https://localhost:8080/",
          "height": 918
        }
      },
      "source": [
        "%run 'train_model3.py'"
      ],
      "execution_count": 0,
      "outputs": [
        {
          "output_type": "stream",
          "text": [
            "Found 19842 images belonging to 2 classes.\n",
            "Found 2204 images belonging to 2 classes.\n",
            "Found 5512 images belonging to 2 classes.\n",
            "Epoch 1/20\n",
            "620/620 [==============================] - 123s 199ms/step - loss: 0.8141 - acc: 0.8821 - val_loss: 0.6745 - val_acc: 0.9412\n",
            "Epoch 2/20\n",
            "620/620 [==============================] - 110s 178ms/step - loss: 0.6229 - acc: 0.9510 - val_loss: 0.5936 - val_acc: 0.9530\n",
            "Epoch 3/20\n",
            "620/620 [==============================] - 110s 177ms/step - loss: 0.5556 - acc: 0.9540 - val_loss: 0.5402 - val_acc: 0.9540\n",
            "Epoch 4/20\n",
            "620/620 [==============================] - 108s 175ms/step - loss: 0.5053 - acc: 0.9582 - val_loss: 0.5679 - val_acc: 0.9203\n",
            "Epoch 5/20\n",
            "620/620 [==============================] - 111s 179ms/step - loss: 0.4637 - acc: 0.9584 - val_loss: 0.5020 - val_acc: 0.9512\n",
            "Epoch 6/20\n",
            "620/620 [==============================] - 110s 177ms/step - loss: 0.4289 - acc: 0.9599 - val_loss: 0.4379 - val_acc: 0.9563\n",
            "Epoch 7/20\n",
            "620/620 [==============================] - 108s 174ms/step - loss: 0.4098 - acc: 0.9592 - val_loss: 0.4103 - val_acc: 0.9563\n",
            "Epoch 8/20\n",
            "620/620 [==============================] - 111s 180ms/step - loss: 0.3799 - acc: 0.9610 - val_loss: 0.3759 - val_acc: 0.9553\n",
            "Epoch 9/20\n",
            "620/620 [==============================] - 110s 177ms/step - loss: 0.4180 - acc: 0.9488 - val_loss: 0.3937 - val_acc: 0.9549\n",
            "Epoch 10/20\n",
            "620/620 [==============================] - 109s 175ms/step - loss: 0.3595 - acc: 0.9612 - val_loss: 0.3656 - val_acc: 0.9517\n",
            "Epoch 11/20\n",
            "620/620 [==============================] - 111s 180ms/step - loss: 0.3368 - acc: 0.9632 - val_loss: 0.3486 - val_acc: 0.9540\n",
            "Epoch 12/20\n",
            "620/620 [==============================] - 109s 176ms/step - loss: 0.3947 - acc: 0.9508 - val_loss: 0.3745 - val_acc: 0.9498\n",
            "Epoch 13/20\n",
            "620/620 [==============================] - 108s 174ms/step - loss: 0.4005 - acc: 0.9523 - val_loss: 0.3922 - val_acc: 0.9489\n",
            "Epoch 14/20\n",
            "620/620 [==============================] - 112s 181ms/step - loss: 0.3615 - acc: 0.9583 - val_loss: 0.3605 - val_acc: 0.9576\n",
            "Epoch 15/20\n",
            "620/620 [==============================] - 108s 174ms/step - loss: 0.3361 - acc: 0.9617 - val_loss: 0.3378 - val_acc: 0.9595\n",
            "Epoch 16/20\n",
            "620/620 [==============================] - 109s 176ms/step - loss: 0.3216 - acc: 0.9630 - val_loss: 0.3259 - val_acc: 0.9618\n",
            "Epoch 17/20\n",
            "620/620 [==============================] - 110s 178ms/step - loss: 0.3262 - acc: 0.9600 - val_loss: 0.3194 - val_acc: 0.9581\n",
            "Epoch 18/20\n",
            "620/620 [==============================] - 107s 173ms/step - loss: 0.2975 - acc: 0.9662 - val_loss: 0.3107 - val_acc: 0.9572\n",
            "Epoch 19/20\n",
            "620/620 [==============================] - 110s 178ms/step - loss: 0.3046 - acc: 0.9633 - val_loss: 0.3054 - val_acc: 0.9563\n",
            "Epoch 20/20\n",
            "620/620 [==============================] - 108s 174ms/step - loss: 0.2855 - acc: 0.9675 - val_loss: 0.2970 - val_acc: 0.9632\n",
            "[INFO] evaluating network...\n",
            "              precision    recall  f1-score   support\n",
            "\n",
            " Parasitized       0.98      0.95      0.96      2786\n",
            "  Uninfected       0.95      0.98      0.96      2726\n",
            "\n",
            "   micro avg       0.96      0.96      0.96      5512\n",
            "   macro avg       0.96      0.96      0.96      5512\n",
            "weighted avg       0.96      0.96      0.96      5512\n",
            "\n"
          ],
          "name": "stdout"
        }
      ]
    },
    {
      "cell_type": "code",
      "metadata": {
        "id": "QLEz8-3Lww2V",
        "colab_type": "code",
        "outputId": "5e308b46-e732-4b3c-8424-f5c6a578c4e1",
        "colab": {
          "base_uri": "https://localhost:8080/",
          "height": 85
        }
      },
      "source": [
        "%ls"
      ],
      "execution_count": 0,
      "outputs": [
        {
          "output_type": "stream",
          "text": [
            " build_dataset.py   mdm.json             plot_e20_lr_2.png   train_model3.py\n",
            " \u001b[0m\u001b[01;34mcnn\u001b[0m/               MyColab_4.ipynb      plot_e50.png        train_model4.py\n",
            " \u001b[01;34mmalaria\u001b[0m/           plot_e20_lr_05.png   train_model1.py     train_model.py\n",
            " mdm.h5             plot_e20_lr_1.png    train_model2.py    \u001b[01;34m'Untitled folder'\u001b[0m/\n"
          ],
          "name": "stdout"
        }
      ]
    },
    {
      "cell_type": "code",
      "metadata": {
        "id": "85r2MOds7gYx",
        "colab_type": "code",
        "outputId": "c52da534-40e4-4f54-c9b1-a6aabfd9d1d3",
        "colab": {
          "base_uri": "https://localhost:8080/",
          "height": 918
        }
      },
      "source": [
        "%run 'train_model4.py'"
      ],
      "execution_count": 0,
      "outputs": [
        {
          "output_type": "stream",
          "text": [
            "Found 19842 images belonging to 2 classes.\n",
            "Found 2204 images belonging to 2 classes.\n",
            "Found 5512 images belonging to 2 classes.\n",
            "Epoch 1/20\n",
            "310/310 [==============================] - 113s 365ms/step - loss: 0.9282 - acc: 0.8444 - val_loss: 0.7145 - val_acc: 0.9504\n",
            "Epoch 2/20\n",
            "310/310 [==============================] - 95s 305ms/step - loss: 0.6601 - acc: 0.9529 - val_loss: 0.6632 - val_acc: 0.9276\n",
            "Epoch 3/20\n",
            "310/310 [==============================] - 95s 307ms/step - loss: 0.5854 - acc: 0.9549 - val_loss: 0.6381 - val_acc: 0.9350\n",
            "Epoch 4/20\n",
            "310/310 [==============================] - 94s 304ms/step - loss: 0.5280 - acc: 0.9577 - val_loss: 0.5200 - val_acc: 0.9509\n",
            "Epoch 5/20\n",
            "310/310 [==============================] - 94s 303ms/step - loss: 0.4834 - acc: 0.9591 - val_loss: 0.4752 - val_acc: 0.9505\n",
            "Epoch 6/20\n",
            "310/310 [==============================] - 96s 309ms/step - loss: 0.4530 - acc: 0.9577 - val_loss: 0.4353 - val_acc: 0.9542\n",
            "Epoch 7/20\n",
            "310/310 [==============================] - 93s 300ms/step - loss: 0.4184 - acc: 0.9607 - val_loss: 0.4099 - val_acc: 0.9593\n",
            "Epoch 8/20\n",
            "310/310 [==============================] - 93s 300ms/step - loss: 0.4543 - acc: 0.9467 - val_loss: 0.4257 - val_acc: 0.9523\n",
            "Epoch 9/20\n",
            "310/310 [==============================] - 94s 305ms/step - loss: 0.3853 - acc: 0.9602 - val_loss: 0.3912 - val_acc: 0.9579\n",
            "Epoch 10/20\n",
            "310/310 [==============================] - 95s 307ms/step - loss: 0.3620 - acc: 0.9605 - val_loss: 0.3610 - val_acc: 0.9589\n",
            "Epoch 11/20\n",
            "310/310 [==============================] - 93s 301ms/step - loss: 0.3418 - acc: 0.9627 - val_loss: 0.3782 - val_acc: 0.9411\n",
            "Epoch 12/20\n",
            "310/310 [==============================] - 94s 303ms/step - loss: 0.3280 - acc: 0.9623 - val_loss: 0.3414 - val_acc: 0.9547\n",
            "Epoch 13/20\n",
            "310/310 [==============================] - 96s 308ms/step - loss: 0.3463 - acc: 0.9547 - val_loss: 0.3493 - val_acc: 0.9542\n",
            "Epoch 14/20\n",
            "310/310 [==============================] - 94s 302ms/step - loss: 0.3181 - acc: 0.9619 - val_loss: 0.3174 - val_acc: 0.9575\n",
            "Epoch 15/20\n",
            "310/310 [==============================] - 94s 304ms/step - loss: 0.3279 - acc: 0.9576 - val_loss: 0.3141 - val_acc: 0.9551\n",
            "Epoch 16/20\n",
            "310/310 [==============================] - 97s 311ms/step - loss: 0.2880 - acc: 0.9660 - val_loss: 0.3089 - val_acc: 0.9565\n",
            "Epoch 17/20\n",
            "310/310 [==============================] - 93s 301ms/step - loss: 0.2846 - acc: 0.9655 - val_loss: 0.2843 - val_acc: 0.9617\n",
            "Epoch 18/20\n",
            "310/310 [==============================] - 93s 300ms/step - loss: 0.2780 - acc: 0.9666 - val_loss: 0.2860 - val_acc: 0.9612\n",
            "Epoch 19/20\n",
            "310/310 [==============================] - 96s 309ms/step - loss: 0.2756 - acc: 0.9647 - val_loss: 0.2787 - val_acc: 0.9664\n",
            "Epoch 20/20\n",
            "310/310 [==============================] - 94s 302ms/step - loss: 0.2628 - acc: 0.9691 - val_loss: 0.2758 - val_acc: 0.9659\n",
            "[INFO] evaluating network...\n",
            "              precision    recall  f1-score   support\n",
            "\n",
            " Parasitized       0.98      0.95      0.96      2786\n",
            "  Uninfected       0.95      0.98      0.96      2726\n",
            "\n",
            "   micro avg       0.96      0.96      0.96      5512\n",
            "   macro avg       0.96      0.96      0.96      5512\n",
            "weighted avg       0.96      0.96      0.96      5512\n",
            "\n"
          ],
          "name": "stdout"
        }
      ]
    }
  ]
}